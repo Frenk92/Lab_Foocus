{
  "cells": [
    {
      "cell_type": "markdown",
      "metadata": {
        "id": "view-in-github",
        "colab_type": "text"
      },
      "source": [
        "<a href=\"https://colab.research.google.com/github/Frenk92/Lab_Foocus/blob/main/fooocus_colab.ipynb\" target=\"_parent\"><img src=\"https://colab.research.google.com/assets/colab-badge.svg\" alt=\"Open In Colab\"/></a>"
      ]
    },
    {
      "cell_type": "markdown",
      "source": [
        "# **FOOOCUS**"
      ],
      "metadata": {
        "id": "d7Or4cYdZoKl"
      }
    },
    {
      "cell_type": "markdown",
      "source": [
        "**UPDATE pygit2 AND DOWNLOAD Fooocus**"
      ],
      "metadata": {
        "id": "qfPRdPkSXTwl"
      }
    },
    {
      "cell_type": "code",
      "execution_count": null,
      "metadata": {
        "id": "VjYy0F2gZIPR"
      },
      "outputs": [],
      "source": [
        "!pip install pygit2==1.15.1\n",
        "%cd /content\n",
        "!git clone https://github.com/lllyasviel/Fooocus.git"
      ]
    },
    {
      "cell_type": "markdown",
      "source": [
        "**RUN Fooocus**"
      ],
      "metadata": {
        "id": "5FUCTIpUYSy9"
      }
    },
    {
      "cell_type": "code",
      "source": [
        "%cd /content/Fooocus\n",
        "!python entry_with_update.py --share --always-high-vram --preset pony_v6"
      ],
      "metadata": {
        "id": "l9RbSgaE7bFB"
      },
      "execution_count": null,
      "outputs": []
    },
    {
      "cell_type": "markdown",
      "source": [
        "# **CONTENTS**"
      ],
      "metadata": {
        "id": "_UtdvfZzYz4p"
      }
    },
    {
      "cell_type": "markdown",
      "source": [
        "**CHECKPOINTS**"
      ],
      "metadata": {
        "id": "1XymWWEyZS3d"
      }
    },
    {
      "cell_type": "code",
      "source": [
        "!wget \"https://civitai.com/api/download/models/464939?type=Model&format=SafeTensor&size=full&fp=fp16&token=71495cd52986d777acac7c6e1422c77c\" -O \"/content/Fooocus/models/checkpoints/ponyFaetality_v11.safetensors\"\n",
        "!wget \"https://civitai.com/api/download/models/324524?type=Model&format=SafeTensor&size=pruned&fp=fp16&token=71495cd52986d777acac7c6e1422c77c\" -O \"/content/Fooocus/models/checkpoints/autismmixSDXL_autismmixConfetti.safetensors\"\n",
        "!wget \"https://civitai.com/api/download/models/686553?type=Model&format=SafeTensor&size=pruned&fp=fp16&token=71495cd52986d777acac7c6e1422c77c\" -O \"/content/Fooocus/models/checkpoints/prefectPonyXL_v2CleanedStyle.safetensors\"\n",
        "!wget \"https://civitai.com/api/download/models/391997?type=Model&format=SafeTensor&token=71495cd52986d777acac7c6e1422c77c\" -O \"/content/Fooocus/models/loras/sdxl_lightning_4step_lora.safetensors\""
      ],
      "metadata": {
        "id": "KeBVpW50KrBQ"
      },
      "execution_count": null,
      "outputs": []
    },
    {
      "cell_type": "markdown",
      "source": [
        "**OTHER**"
      ],
      "metadata": {
        "id": "IcjCbsU2ZYkH"
      }
    },
    {
      "cell_type": "code",
      "source": [
        "!wget \"https://civitai.com/api/download/models/919500?type=Model&format=SafeTensor&token=71495cd52986d777acac7c6e1422c77c\" -O \"/content/Fooocus/models/loras/Highheels-PonyV6-V1.2.safetensors\"\n",
        "!wget \"https://civitai.com/api/download/models/679307?type=Model&format=SafeTensor&token=71495cd52986d777acac7c6e1422c77c\" -O \"/content/Fooocus/models/loras/hud_th0ng_s4ndals_XLP.safetensors\"\n",
        "!wget \"https://civitai.com/api/download/models/145648?type=Model&format=SafeTensor&token=71495cd52986d777acac7c6e1422c77c\" -O \"/content/Fooocus/models/loras/opentoeNYXv2_0.safetensors\"\n",
        "!wget \"https://civitai.com/api/download/models/719119?type=Model&format=SafeTensor&token=71495cd52986d777acac7c6e1422c77c\" -O \"/content/Fooocus/models/loras/stripper-heels_pony.safetensors\"\n",
        "!wget \"https://civitai.com/api/download/models/461725?type=Model&format=SafeTensor&token=71495cd52986d777acac7c6e1422c77c\" -O \"/content/Fooocus/models/loras/PonyopentoeNYX.safetensors\""
      ],
      "metadata": {
        "id": "l7kU-ymk7eky"
      },
      "execution_count": null,
      "outputs": []
    },
    {
      "cell_type": "code",
      "source": [
        "!wget \"https://civitai.com/api/download/models/542979?type=Model&format=SafeTensor&token=71495cd52986d777acac7c6e1422c77c\" -O \"/content/Fooocus/models/loras/Cute_Anime_Feet_and_Soles-000001.safetensors\"\n",
        "!wget \"https://civitai.com/api/download/models/446589?type=Model&format=SafeTensor&token=71495cd52986d777acac7c6e1422c77c\" -O \"/content/Fooocus/models/loras/PonyRealFeet.safetensors\"\n",
        "!wget \"https://civitai.com/api/download/models/433281?type=Model&format=SafeTensor&token=71495cd52986d777acac7c6e1422c77c\" -O \"/content/Fooocus/models/loras/PonyRealFlipFlops.safetensors\"\n",
        "!wget \"https://civitai.com/api/download/models/599490?type=Model&format=SafeTensor&token=71495cd52986d777acac7c6e1422c77c\" -O \"/content/Fooocus/models/loras/PLASTT_PonyV6.safetensors\""
      ],
      "metadata": {
        "id": "bmjsLxpARtTa"
      },
      "execution_count": null,
      "outputs": []
    },
    {
      "cell_type": "code",
      "source": [
        "!wget \"https://civitai.com/api/download/models/511346?type=Model&format=SafeTensor&token=71495cd52986d777acac7c6e1422c77c\" -O \"/content/Fooocus/models/loras/danmachi-freya-anime-ponyxl-lora-nochekaiser.safetensors\"\n",
        "!wget \"https://civitai.com/api/download/models/554906?type=Model&format=SafeTensor&token=71495cd52986d777acac7c6e1422c77c\" -O \"/content/Fooocus/models/loras/Freya.safetensors\"\n",
        "!wget \"https://civitai.com/api/download/models/1004499?type=Model&format=SafeTensor&token=71495cd52986d777acac7c6e1422c77c\" -O \"/content/Fooocus/models/loras/DanMachi_FreyaXL.safetensors\"\n",
        "!wget \"https://civitai.com/api/download/models/704571?type=Model&format=SafeTensor&token=71495cd52986d777acac7c6e1422c77c\" -O \"/content/Fooocus/models/loras/Danmachi-Freya-PDXL.safetensors\""
      ],
      "metadata": {
        "id": "_h7ETn0mI2Sz"
      },
      "execution_count": null,
      "outputs": []
    }
  ],
  "metadata": {
    "accelerator": "GPU",
    "colab": {
      "gpuType": "T4",
      "provenance": [],
      "include_colab_link": true
    },
    "kernelspec": {
      "display_name": "Python 3",
      "name": "python3"
    },
    "language_info": {
      "name": "python"
    }
  },
  "nbformat": 4,
  "nbformat_minor": 0
}